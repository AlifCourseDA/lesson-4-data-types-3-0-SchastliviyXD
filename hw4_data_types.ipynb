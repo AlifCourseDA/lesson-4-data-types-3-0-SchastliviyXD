{
 "cells": [
  {
   "attachments": {
    "image-2.png": {
     "image/png": "[encoded data removed]"
    }
   },
   "cell_type": "markdown",
   "id": "72604ce5",
   "metadata": {
    "slideshow": {
     "slide_type": "slide"
    }
   },
   "source": [
    "![image-2.png](attachment:image-2.png)"
   ]
  },
  {
   "cell_type": "markdown",
   "id": "00dd6fb6",
   "metadata": {
    "slideshow": {
     "slide_type": "fragment"
    }
   },
   "source": [
    "# HW 4: Data Types 3.0 \n",
    "\n"
   ]
  },
  {
   "cell_type": "markdown",
   "id": "55f111b2",
   "metadata": {},
   "source": [
    "В этом домашнем задании предлагаю вам решить задачи из учебника Яндекс :)\n",
    "\n",
    "- \n",
    "    \n",
    "    **Строки, кортежи и списки:**\n",
    "    \n",
    "    [Азбука](https://new.contest.yandex.ru/41237/problem?id=149944/2022_10_13/Rqerjkkkal)\n",
    "    \n",
    "    [Анонс новости](https://new.contest.yandex.ru/41237/problem?id=149944/2022_10_13/qCXhJgNHI9)\n",
    "    \n",
    "    [Очистка данных](https://new.contest.yandex.ru/41237/problem?id=149944/2022_10_13/OgIDCS3i0M)\n",
    "    \n",
    "    [Без комментариев](https://new.contest.yandex.ru/41237/problem?id=149944/2022_10_13/xN8A0sVDQd)\n",
    "    \n",
    "    [Частотный анализ на минималках](https://new.contest.yandex.ru/41237/problem?id=149944/2022_10_13/fCcQ3iQzrD)\n",
    "    \n",
    "    [Массовое возведение в степень](https://new.contest.yandex.ru/41237/problem?id=149944/2022_10_13/YOO7ZFJH4A)\n",
    "    \n",
    "    [НОД](https://new.contest.yandex.ru/41237/problem?id=149944/2022_10_13/cXCfPpVk3a)\n",
    "    \n",
    "    [RLE](https://new.contest.yandex.ru/41237/problem?id=149944/2022_10_13/R3wYYWsSR8)\n",
    "    \n",
    "    **Множества, словари:**\n",
    "    \n",
    "    [Символическая разница](https://new.contest.yandex.ru/41238/problem?id=149944/2022_10_13/O36RTF4IwF)\n",
    "    \n",
    "    [Зайцы](https://new.contest.yandex.ru/41238/problem?id=149944/2022_10_13/JnnhhAewGx)\n",
    "    \n",
    "    [Кашееды](https://new.contest.yandex.ru/41238/problem?id=149944/2022_10_13/AZM9pHPP61)\n",
    "    \n",
    "    [Зайцы (другая задача)](https://new.contest.yandex.ru/41238/problem?id=149944/2022_10_13/Tvk8oartND)\n",
    "    \n",
    "    [Транслитерация](https://new.contest.yandex.ru/41238/problem?id=149944/2022_10_13/9T6sXF8RWo)\n",
    "    \n",
    "    [Однофамильцы](https://new.contest.yandex.ru/41238/problem?id=149944/2022_10_13/s6Jxtvde9U)\n",
    "    \n",
    "    [Простая задача](https://new.contest.yandex.ru/41238/problem?id=149944/2022_10_13/wrBaAxOEFH)\n",
    "    \n",
    "    [Друзья друзей](https://new.contest.yandex.ru/41238/problem?id=149944/2022_10_13/Z4TZboVPOx)\n",
    "    \n",
    "    **Списочные выражения:**\n",
    "    \n",
    "    [Решить все задачи по списочным выражениям](https://new.contest.yandex.ru/41239/start)"
   ]
  },
  {
   "cell_type": "markdown",
   "id": "a607af70",
   "metadata": {},
   "source": [
    "# Строки, кортежи и списки:"
   ]
  },
  {
   "cell_type": "markdown",
   "id": "b6297f76",
   "metadata": {},
   "source": [
    "# Азбука"
   ]
  },
  {
   "cell_type": "code",
   "execution_count": 2,
   "id": "4d230452",
   "metadata": {},
   "outputs": [
    {
     "name": "stdout",
     "output_type": "stream",
     "text": [
      "YES\n"
     ]
    }
   ],
   "source": [
    "n = int(input())\n",
    "flag = True\n",
    "letters = 'абв'\n",
    "for _ in range(n):\n",
    "    s = input()\n",
    "    if s[0] not in letters:\n",
    "        flag = False\n",
    "if flag:\n",
    "    print('YES')\n",
    "else:\n",
    "    print('NO')"
   ]
  },
  {
   "cell_type": "markdown",
   "id": "00894573",
   "metadata": {},
   "source": [
    "# Анонс новости"
   ]
  },
  {
   "cell_type": "code",
   "execution_count": null,
   "id": "fcd699af",
   "metadata": {},
   "outputs": [],
   "source": [
    "# initializing vars and the list for headings\n",
    "l, n = int(input()), int(input())\n",
    "headings = []\n",
    "# cycle for words and checking their length\n",
    "for _ in range(n):\n",
    "    s = input()\n",
    "    # cut their length if its longer than l\n",
    "    if len(s) > l:\n",
    "        s = s[:l - 3] + '...'\n",
    "        headings.append(s)\n",
    "    else:\n",
    "        headings.append(s)\n",
    "# go through headings and print each\n",
    "for i in headings:\n",
    "    print(i, end='\\n')"
   ]
  },
  {
   "cell_type": "markdown",
   "id": "bf4793b4",
   "metadata": {},
   "source": [
    "# Очистка данных"
   ]
  },
  {
   "cell_type": "code",
   "execution_count": null,
   "id": "a83c1192",
   "metadata": {},
   "outputs": [],
   "source": [
    "# create a list for suitable logs\n",
    "good_logs = []\n",
    "# cycle to find unsuitable logs\n",
    "while (s := input()) != '':\n",
    "    if not s.endswith('@@@'):\n",
    "        if s.startswith('##'):\n",
    "            s = s[2:]\n",
    "            good_logs.append(s)\n",
    "        else:\n",
    "            good_logs.append(s)\n",
    "# print each good log\n",
    "for i in good_logs:\n",
    "    print(i, end='\\n')"
   ]
  },
  {
   "cell_type": "markdown",
   "id": "c7cc10c6",
   "metadata": {},
   "source": [
    "# Без комментариев"
   ]
  },
  {
   "cell_type": "code",
   "execution_count": null,
   "id": "5b60a8f7",
   "metadata": {},
   "outputs": [],
   "source": [
    "# define a list for cleaned strings\n",
    "clean_strings = []\n",
    "# input strings and clean them from comments\n",
    "while (s := input()) != '':\n",
    "    if '#' in s:\n",
    "        s = s[:s.find('#')].rstrip()\n",
    "    if s:\n",
    "        clean_strings.append(s)\n",
    "\n",
    "print(*clean_strings, sep='\\n')"
   ]
  },
  {
   "cell_type": "markdown",
   "id": "4e9bd14b",
   "metadata": {},
   "source": [
    "# Частотный анализ на минималках"
   ]
  },
  {
   "cell_type": "code",
   "execution_count": null,
   "id": "42f21616",
   "metadata": {},
   "outputs": [],
   "source": [
    "all_letters = ''\n",
    "counter = 0\n",
    "result = ''\n",
    "while (s := input()) != 'ФИНИШ':\n",
    "    for letter in s:\n",
    "        all_letters += letter.lower()\n",
    "\n",
    "for i in all_letters:\n",
    "    let_num = all_letters.count(i)\n",
    "    if let_num == counter:\n",
    "        continue\n",
    "    elif let_num > counter:\n",
    "        counter = let_num\n",
    "        result = i\n",
    "print(result)"
   ]
  },
  {
   "cell_type": "markdown",
   "id": "49164784",
   "metadata": {},
   "source": [
    "# Массовое возведение в степень"
   ]
  },
  {
   "cell_type": "code",
   "execution_count": null,
   "id": "e97fa64b",
   "metadata": {},
   "outputs": [],
   "source": [
    "n = int(input())\n",
    "# create a list of numbers stored\n",
    "numbers = []\n",
    "for num in range(n):\n",
    "    num = int(input())\n",
    "    numbers.append(num)\n",
    "\n",
    "p = int(input())\n",
    "# go through the nums in the list and set them in power of p\n",
    "for i in numbers:\n",
    "    print(i ** p)"
   ]
  },
  {
   "cell_type": "markdown",
   "id": "2e3269c6",
   "metadata": {},
   "source": [
    "# НОД 3.0"
   ]
  },
  {
   "cell_type": "code",
   "execution_count": null,
   "id": "d0e6768d",
   "metadata": {},
   "outputs": [],
   "source": [
    "def find_gcd(numbers):\n",
    "    result_gcd = numbers[0]\n",
    "    for num in numbers[1:]:\n",
    "        result_gcd = gcd(result_gcd, num)\n",
    "    return result_gcd\n",
    "\n",
    "def gcd(a, b):\n",
    "    while b:\n",
    "        a, b = b, a % b\n",
    "    return a\n",
    "\n",
    "numbers = input().split()\n",
    "for i in range(len(numbers)):\n",
    "    numbers[i] = int(numbers[i])\n",
    "result = find_gcd(numbers)\n",
    "print(result)"
   ]
  },
  {
   "cell_type": "markdown",
   "id": "603ff299",
   "metadata": {},
   "source": [
    "# RLE"
   ]
  },
  {
   "cell_type": "code",
   "execution_count": null,
   "id": "cad203b4",
   "metadata": {},
   "outputs": [],
   "source": [
    "# initializing the string of nums, the result list, temp list\n",
    "# and counter of digits in a row\n",
    "s = input()\n",
    "rle = []\n",
    "temp_rle = []\n",
    "counter = 1\n",
    "# looping through the digits\n",
    "for i in range(1, len(s)):\n",
    "    # if the digit is equal to previous one add 1 to counter\n",
    "    if s[i] == s[i - 1]:\n",
    "        counter += 1\n",
    "    # else add the previous digit and the counter to the temp list\n",
    "    # and add temp list to the rle list\n",
    "    else:\n",
    "        temp_rle.append(int(s[i - 1]))\n",
    "        temp_rle.append(counter)\n",
    "        rle.append(temp_rle)\n",
    "        temp_rle = []\n",
    "        counter = 1\n",
    "# if there is something left in the counter add the last digit and counter\n",
    "# to the mail list\n",
    "if counter > 1:\n",
    "    temp_rle = []\n",
    "    temp_rle.append(int(s[-1]))\n",
    "    temp_rle.append(counter)\n",
    "    rle.append(temp_rle)\n",
    "# looping through the main list, unpacking and printing digits\n",
    "# and their numbers\n",
    "for i in rle:\n",
    "    print(*i, end='\\n')\n"
   ]
  },
  {
   "cell_type": "markdown",
   "id": "6805b6b3",
   "metadata": {},
   "source": [
    "# Множества, словари:"
   ]
  },
  {
   "cell_type": "markdown",
   "id": "076ac6c3",
   "metadata": {},
   "source": [
    "# Символическая разница"
   ]
  },
  {
   "cell_type": "code",
   "execution_count": null,
   "id": "b791b8ff",
   "metadata": {},
   "outputs": [],
   "source": [
    "s_1, s_2 = set(input()), set(input())\n",
    "print(*s_1 & s_2, sep='')"
   ]
  },
  {
   "cell_type": "markdown",
   "id": "265fddf9",
   "metadata": {},
   "source": [
    "# Зайка - 8"
   ]
  },
  {
   "cell_type": "code",
   "execution_count": null,
   "id": "c4e9b4fd",
   "metadata": {},
   "outputs": [],
   "source": [
    "n = int(input())\n",
    "s = set()\n",
    "for i in range(n):\n",
    "    s.update(input().split())\n",
    "print(*s, sep='\\n')"
   ]
  },
  {
   "cell_type": "markdown",
   "id": "7635c505",
   "metadata": {},
   "source": [
    "# Кашееды"
   ]
  },
  {
   "cell_type": "code",
   "execution_count": null,
   "id": "a823a07b",
   "metadata": {},
   "outputs": [],
   "source": [
    "n, m = int(input()), int(input())\n",
    "# creating sets for both kasha lovers\n",
    "kasha1, kasha2 = set(), set()\n",
    "# looping through both and adding inputs\n",
    "for _ in range(n):\n",
    "    kasha1.add(input())\n",
    "for _ in range(m):\n",
    "    kasha2.add(input())\n",
    "# finding intersection between 2 sets\n",
    "both_kasha = kasha1 & kasha2\n",
    "\n",
    "if both_kasha:\n",
    "    print(len(both_kasha))\n",
    "else:\n",
    "    print('Таких нет')"
   ]
  },
  {
   "cell_type": "markdown",
   "id": "cb9dd342",
   "metadata": {},
   "source": [
    "# Зайка - 9"
   ]
  },
  {
   "cell_type": "code",
   "execution_count": null,
   "id": "9c7e7685",
   "metadata": {},
   "outputs": [],
   "source": [
    "# creating dict and adding items from list input into it with the help of embedded loops\n",
    "ani_plants = dict()\n",
    "while (s := input().split()) != []:\n",
    "    for i in s:\n",
    "        ani_plants[i] = ani_plants.get(i, 0) + 1\n",
    "# looping though dict items and printing its keys and values\n",
    "for key, value in ani_plants.items():\n",
    "    print(key, value)"
   ]
  },
  {
   "cell_type": "markdown",
   "id": "e07bd374",
   "metadata": {},
   "source": [
    "# Транслитерация"
   ]
  },
  {
   "cell_type": "code",
   "execution_count": null,
   "id": "e16773e9",
   "metadata": {},
   "outputs": [],
   "source": [
    "# initializing dict and an input text as a list\n",
    "s = list(input())\n",
    "trans_abc = {'А': 'A', 'Б': 'B', 'В': 'V', 'Г': 'G', 'Д': 'D', 'Е': 'E',\n",
    "             'Ё': 'E', 'Ж': 'Zh', 'З': 'Z', 'И': 'I', 'Й': 'I', 'К': 'K', 'Л': 'L',\n",
    "             'М': 'M', 'Н': 'N', 'О': 'O', 'П': 'P', 'Р': 'R', 'С': 'S', 'Т': 'T',\n",
    "             'У': 'U', 'Ф': 'F', 'Х': 'Kh', 'Ц': 'Tc', 'Ч': 'Ch', 'Ш': 'Sh',\n",
    "             'Щ': 'Shch', 'Ь': '', 'Ъ': '', 'Ы': 'Y', 'Э': 'E', 'Ю': 'Iu', 'Я': 'Ia'}\n",
    "# looping the text and changing letters into latin versions\n",
    "for i in range(len(s)):\n",
    "    if s[i] in trans_abc:\n",
    "        s[i] = trans_abc[s[i]]\n",
    "    elif s[i].upper() in trans_abc:\n",
    "        s[i] = trans_abc[s[i].upper()].lower()\n",
    "    else:\n",
    "        pass\n",
    "# joining the list and printing\n",
    "print(''.join(s))"
   ]
  },
  {
   "cell_type": "markdown",
   "id": "f2ded70f",
   "metadata": {},
   "source": [
    "# Однофамильцы"
   ]
  },
  {
   "cell_type": "code",
   "execution_count": null,
   "id": "3fbc9b97",
   "metadata": {},
   "outputs": [],
   "source": [
    "n = int(input())\n",
    "total = 0\n",
    "dif_name = []\n",
    "same_name = set()\n",
    "for i in range(n):\n",
    "    surname = input()\n",
    "    dif_name.append(surname)\n",
    "    same_name.add(surname)\n",
    "\n",
    "for j in same_name:\n",
    "    if dif_name.count(j) > 1:\n",
    "        total += dif_name.count(j)\n",
    "\n",
    "print(total)"
   ]
  },
  {
   "cell_type": "markdown",
   "id": "39ca2353",
   "metadata": {},
   "source": [
    "# Простая задача 4.0"
   ]
  },
  {
   "cell_type": "code",
   "execution_count": null,
   "id": "547f197d",
   "metadata": {},
   "outputs": [],
   "source": [
    "# create a function to search for mutual prime numbers\n",
    "def mutual_primes_search(nums):\n",
    "    numbers = list(map(int, nums.split('; ')))\n",
    "    result = {}\n",
    "    # looping through the numbers and finding mutual primes using the gcd function\n",
    "    for i in range(len(numbers)):\n",
    "        mutual_primes = []\n",
    "        for j in range(len(numbers)):\n",
    "            if i != j and gcd(numbers[i], numbers[j]) == 1:\n",
    "                mutual_primes.append(numbers[j])\n",
    "        if mutual_primes:\n",
    "            result[numbers[i]] = mutual_primes\n",
    "\n",
    "    return result\n",
    "\n",
    "\n",
    "# take 2 inputs and find the greatest common denominator of them\n",
    "def gcd(a, b):\n",
    "    while b:\n",
    "        a, b = b, a % b\n",
    "    return a\n",
    "\n",
    "\n",
    "try:\n",
    "    # Inputing numbers\n",
    "    sequence = input()\n",
    "\n",
    "    # Searching for mutual numbers\n",
    "    mutual_primes_dict = mutual_primes_search(sequence)\n",
    "\n",
    "    # Loop through the dictionary and print mutually prime numbers\n",
    "    for num, mutual_primes in sorted(mutual_primes_dict.items()):\n",
    "        print(f\"{num} - {', '.join(map(str, mutual_primes))}\")\n",
    "\n",
    "except ValueError:\n",
    "    print(\"Input Error. Please input correct numbers.\")"
   ]
  },
  {
   "cell_type": "markdown",
   "id": "c6dbe71b",
   "metadata": {},
   "source": [
    "# Список квадратов"
   ]
  },
  {
   "cell_type": "code",
   "execution_count": 8,
   "id": "b45753bd",
   "metadata": {},
   "outputs": [
    {
     "name": "stdout",
     "output_type": "stream",
     "text": [
      "[25, 16, 9, 4, 1, 0, 1, 4, 9, 16, 25]\n"
     ]
    }
   ],
   "source": [
    "a, b = int(input(\"a = \")), int(input(\"b = \"))\n",
    "squares = [x ** 2 for x in range(a, b + 1)]\n",
    "print(squares)"
   ]
  },
  {
   "cell_type": "markdown",
   "id": "5a8cc757",
   "metadata": {},
   "source": [
    "# Таблица умножения 2.0"
   ]
  },
  {
   "cell_type": "code",
   "execution_count": 12,
   "id": "cc78fd60",
   "metadata": {},
   "outputs": [
    {
     "name": "stdout",
     "output_type": "stream",
     "text": [
      "[[1, 2, 3, 4], [2, 4, 6, 8], [3, 6, 9, 12], [4, 8, 12, 16]]\n"
     ]
    }
   ],
   "source": [
    "n = int(input(\"n = \"))\n",
    "table = [[i * j for i in range(1, n + 1)] for j in range(1, n + 1)]\n",
    "print(table)"
   ]
  },
  {
   "cell_type": "markdown",
   "id": "9cddaafc",
   "metadata": {},
   "source": [
    "# Длины всех слов"
   ]
  },
  {
   "cell_type": "code",
   "execution_count": null,
   "id": "6855372a",
   "metadata": {},
   "outputs": [],
   "source": [
    "sentence = input(\"sentence = \")\n",
    "words_length = [len(i) for i in sentence.split()]\n",
    "print(words_length)"
   ]
  },
  {
   "cell_type": "markdown",
   "id": "5501631e",
   "metadata": {},
   "source": [
    "# Множество нечетных чисел"
   ]
  },
  {
   "cell_type": "code",
   "execution_count": null,
   "id": "884f7b71",
   "metadata": {},
   "outputs": [],
   "source": [
    "numbers = [int(x) for x in input(\"numbers = \").split()]\n",
    "odd_numbers = {x for x in numbers if x % 2 != 0}\n",
    "print(odd_numbers)"
   ]
  },
  {
   "cell_type": "markdown",
   "id": "621c6502",
   "metadata": {},
   "source": [
    "# Множество всех полных квадратов"
   ]
  },
  {
   "cell_type": "code",
   "execution_count": 13,
   "id": "c5abf7d2",
   "metadata": {},
   "outputs": [
    {
     "name": "stdout",
     "output_type": "stream",
     "text": [
      "{1, 4}\n"
     ]
    }
   ],
   "source": [
    "numbers = [int(x) for x in input(\"numbers = \").split()]\n",
    "full_squares = {x for x in numbers if int(x ** 0.5) ** 2 == x}\n",
    "print(full_squares)"
   ]
  },
  {
   "cell_type": "markdown",
   "id": "4f197ea2",
   "metadata": {},
   "source": [
    "# Буквенная статистика"
   ]
  },
  {
   "cell_type": "code",
   "execution_count": null,
   "id": "3a9de360",
   "metadata": {},
   "outputs": [],
   "source": [
    "text = input(\"text = \")\n",
    "letter_count = {letter.lower(): text.lower().count(letter) for letter in set(text) if letter.isalpha()}\n",
    "for letter, num in letter_count.items():\n",
    "    print(f\"{letter}: {num}\")"
   ]
  },
  {
   "cell_type": "markdown",
   "id": "6805595d",
   "metadata": {},
   "source": [
    "# Делители"
   ]
  },
  {
   "cell_type": "code",
   "execution_count": null,
   "id": "6288d201",
   "metadata": {},
   "outputs": [],
   "source": [
    "numbers = {int(n) for n in input(\"numbers = \").split()}\n",
    "dividers = {num: [i for i in range(1, num + 1) if num % i == 0] for num in numbers}\n",
    "for num, dividers in dividers.items():\n",
    "    print(f\"{num}: {dividers}\")"
   ]
  }
 ],
 "metadata": {
  "kernelspec": {
   "display_name": "Python 3 (ipykernel)",
   "language": "python",
   "name": "python3"
  },
  "language_info": {
   "codemirror_mode": {
    "name": "ipython",
    "version": 3
   },
   "file_extension": ".py",
   "mimetype": "text/x-python",
   "name": "python",
   "nbconvert_exporter": "python",
   "pygments_lexer": "ipython3",
   "version": "3.12.1"
  }
 },
 "nbformat": 4,
 "nbformat_minor": 5
}
